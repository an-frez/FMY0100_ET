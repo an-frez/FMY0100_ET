{
 "cells": [
  {
   "cell_type": "code",
   "execution_count": 1,
   "id": "5a4d1e27",
   "metadata": {},
   "outputs": [],
   "source": [
    "import pickle\n",
    "from sklearn.tree import DecisionTreeClassifier"
   ]
  },
  {
   "cell_type": "code",
   "execution_count": 9,
   "id": "b0e6b8de",
   "metadata": {},
   "outputs": [],
   "source": [
    "reg_model = pickle.load(open(\"D:\\\\Code\\\\PythonCode\\\\machine_learning\\\\et\\\\app\\\\checkpoints\\\\reg_model_1vars.pkl\", 'rb'))\n",
    "class_model = pickle.load(open(\"D:\\\\Code\\\\PythonCode\\\\machine_learning\\\\et\\\\app\\\\checkpoints\\\\class_model_3vars.pkl\", 'rb'))"
   ]
  },
  {
   "cell_type": "code",
   "execution_count": 10,
   "id": "2e05350e",
   "metadata": {},
   "outputs": [
    {
     "name": "stdout",
     "output_type": "stream",
     "text": [
      "[4300.88924818]\n"
     ]
    },
    {
     "name": "stderr",
     "output_type": "stream",
     "text": [
      "c:\\Users\\AquilesVaesa\\miniconda3\\envs\\machine_learning\\Lib\\site-packages\\sklearn\\utils\\validation.py:2739: UserWarning: X does not have valid feature names, but AdaBoostRegressor was fitted with feature names\n",
      "  warnings.warn(\n"
     ]
    }
   ],
   "source": [
    "# Regression model test\n",
    "\n",
    "RoundStartingEquipmentValue = 850\n",
    "\n",
    "print(reg_model.predict([[RoundStartingEquipmentValue]])) # pred = TeamStartingEquipmentValue"
   ]
  },
  {
   "cell_type": "code",
   "execution_count": null,
   "id": "df9d9d16",
   "metadata": {},
   "outputs": [
    {
     "name": "stdout",
     "output_type": "stream",
     "text": [
      "[4300.88924818]\n"
     ]
    },
    {
     "name": "stderr",
     "output_type": "stream",
     "text": [
      "c:\\Users\\AquilesVaesa\\miniconda3\\envs\\machine_learning\\Lib\\site-packages\\sklearn\\utils\\validation.py:2739: UserWarning: X does not have valid feature names, but AdaBoostRegressor was fitted with feature names\n",
      "  warnings.warn(\n"
     ]
    }
   ],
   "source": [
    "# Regression model test\n",
    "\n",
    "TeamStartingEquipmentValue = 14400\n",
    "TimeAlive = 51120248995704500\n",
    "FirstKillTime = 0\n",
    "\n",
    "print(class_model.predict([[TeamStartingEquipmentValue,TimeAlive,FirstKillTime]])) # pred = MatchWinner"
   ]
  }
 ],
 "metadata": {
  "kernelspec": {
   "display_name": "machine_learning",
   "language": "python",
   "name": "python3"
  },
  "language_info": {
   "codemirror_mode": {
    "name": "ipython",
    "version": 3
   },
   "file_extension": ".py",
   "mimetype": "text/x-python",
   "name": "python",
   "nbconvert_exporter": "python",
   "pygments_lexer": "ipython3",
   "version": "3.11.11"
  }
 },
 "nbformat": 4,
 "nbformat_minor": 5
}
